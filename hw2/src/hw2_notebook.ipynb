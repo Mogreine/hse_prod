{
 "cells": [
  {
   "cell_type": "code",
   "execution_count": 14,
   "metadata": {
    "collapsed": true
   },
   "outputs": [
    {
     "name": "stderr",
     "output_type": "stream",
     "text": [
      "<ipython-input-14-34845c2c9a13>:7: FutureWarning: The pandas.datetime class is deprecated and will be removed from pandas in a future version. Import from datetime module instead.\n",
      "  from pandas import datetime\n"
     ]
    }
   ],
   "source": [
    "import pandas as pd\n",
    "import sqlite3 as sql3\n",
    "\n",
    "import numpy as np\n",
    "import matplotlib.pyplot as plt\n",
    "from pandas.plotting import lag_plot\n",
    "from pandas import datetime\n",
    "from statsmodels.tsa.arima_model import ARIMA\n",
    "from sklearn.metrics import mean_squared_error, mean_absolute_error\n",
    "from pmdarima.arima import auto_arima\n",
    "from scipy.spatial.distance import cosine\n",
    "\n",
    "import warnings\n",
    "warnings.filterwarnings(\"ignore\")"
   ]
  },
  {
   "cell_type": "markdown",
   "source": [
    "Для начала подготовим данные в общем виде, которые можно подавать как ариме, так и бустингу. Для этого заджойним данные с\n",
    "чарта и сессий по session_id. Уберем дубликаты договоров и отсортируем по времени."
   ],
   "metadata": {
    "collapsed": false
   }
  },
  {
   "cell_type": "code",
   "execution_count": 15,
   "outputs": [],
   "source": [
    "def filter_deal_id(data: pd.DataFrame):\n",
    "    ids = set()\n",
    "    for i, d_id in enumerate(data[\"deal_id\"]):\n",
    "        if d_id not in ids:\n",
    "            ids.add(i)\n",
    "\n",
    "    data = data.iloc[list(ids)]\n",
    "    return data\n",
    "\n",
    "\n",
    "def read_data():\n",
    "    con = sql3.connect(\"../data/trade_info.sqlite3\")\n",
    "    data = pd.read_sql(\"\"\n",
    "                       \"SELECT s.id, s.date, c.time, deal_id, c.price \"\n",
    "                       \"FROM Trading_session s \"\n",
    "                       \"INNER JOIN Chart_data c ON s.id = c.session_id \"\n",
    "                       \"WHERE trading_type='monthly' \"\n",
    "                       \"ORDER BY date, time\",\n",
    "                       con)\n",
    "\n",
    "    data = filter_deal_id(data)\n",
    "    data.price += 10\n",
    "    con.close()\n",
    "    return data\n",
    "\n",
    "data = read_data()"
   ],
   "metadata": {
    "collapsed": false,
    "pycharm": {
     "name": "#%%\n"
    }
   }
  },
  {
   "cell_type": "markdown",
   "source": [
    "Теперь хотел бы посмотреть на график цен. В датасете цена дана в нормализованном виде. Будем полагать, что\n",
    "нормализация работала в виде actual_price - initial_price, где initial_price -- это цена самых-самых\n",
    "первых торгов. Пусть она будет равна 10.\n",
    "\n",
    "Теперь перейдем к графикам."
   ],
   "metadata": {
    "collapsed": false
   }
  },
  {
   "cell_type": "code",
   "execution_count": 16,
   "outputs": [
    {
     "data": {
      "text/plain": "<Figure size 432x288 with 1 Axes>",
      "image/png": "[encoded data removed]"
     },
     "metadata": {
      "needs_background": "light"
     },
     "output_type": "display_data"
    }
   ],
   "source": [
    "plt.plot(pd.to_datetime(data.date + \" \" + data.time), data[\"price\"])\n",
    "plt.title(\"Price over time\")\n",
    "plt.xlabel(\"time\")\n",
    "plt.ylabel(\"price\")\n",
    "plt.show()\n"
   ],
   "metadata": {
    "collapsed": false,
    "pycharm": {
     "name": "#%%\n"
    }
   }
  },
  {
   "cell_type": "markdown",
   "source": [
    "Давайте примени ариму. По-хорошему надо посмотреть, обладают ли данные авто-корреляцией."
   ],
   "metadata": {
    "collapsed": false
   }
  },
  {
   "cell_type": "code",
   "execution_count": 17,
   "outputs": [
    {
     "data": {
      "text/plain": "<Figure size 432x288 with 1 Axes>",
      "image/png": "[encoded data removed]"
     },
     "metadata": {
      "needs_background": "light"
     },
     "output_type": "display_data"
    }
   ],
   "source": [
    "plt.figure()\n",
    "lag_plot(data['price'], lag=3)\n",
    "plt.title('Autocorrelation plot with lag = 3')\n",
    "plt.show()"
   ],
   "metadata": {
    "collapsed": false,
    "pycharm": {
     "name": "#%%\n"
    }
   }
  },
  {
   "cell_type": "markdown",
   "source": [
    "Кажется, да, есть смысл использовать ариму. Подберем параметры."
   ],
   "metadata": {
    "collapsed": false
   }
  },
  {
   "cell_type": "code",
   "execution_count": 18,
   "outputs": [],
   "source": [
    "train_data, test_data = data[0:int(len(data) * 0.7)], data[int(len(data) * 0.7):]\n",
    "training_data = train_data['price'].values\n",
    "test_data = test_data['price'].values\n",
    "history = [x for x in training_data]"
   ],
   "metadata": {
    "collapsed": false,
    "pycharm": {
     "name": "#%%\n"
    }
   }
  },
  {
   "cell_type": "code",
   "execution_count": 19,
   "outputs": [
    {
     "name": "stdout",
     "output_type": "stream",
     "text": [
      "Performing stepwise search to minimize aic\n",
      " ARIMA(0,1,0)(0,0,0)[0] intercept   : AIC=-5609.126, Time=0.16 sec\n",
      " ARIMA(1,1,0)(0,0,0)[0] intercept   : AIC=-5627.003, Time=0.23 sec\n",
      " ARIMA(0,1,1)(0,0,0)[0] intercept   : AIC=-5629.698, Time=0.59 sec\n",
      " ARIMA(0,1,0)(0,0,0)[0]             : AIC=-5611.113, Time=0.09 sec\n",
      " ARIMA(1,1,1)(0,0,0)[0] intercept   : AIC=-5637.614, Time=1.04 sec\n",
      " ARIMA(2,1,1)(0,0,0)[0] intercept   : AIC=-5631.653, Time=0.61 sec\n",
      " ARIMA(1,1,2)(0,0,0)[0] intercept   : AIC=-5632.148, Time=0.41 sec\n",
      " ARIMA(0,1,2)(0,0,0)[0] intercept   : AIC=-5634.130, Time=0.39 sec\n",
      " ARIMA(2,1,0)(0,0,0)[0] intercept   : AIC=-5633.651, Time=0.38 sec\n",
      " ARIMA(2,1,2)(0,0,0)[0] intercept   : AIC=-5633.629, Time=1.22 sec\n",
      " ARIMA(1,1,1)(0,0,0)[0]             : AIC=-5639.586, Time=0.31 sec\n",
      " ARIMA(0,1,1)(0,0,0)[0]             : AIC=-5631.678, Time=0.11 sec\n",
      " ARIMA(1,1,0)(0,0,0)[0]             : AIC=-5628.977, Time=0.05 sec\n",
      " ARIMA(2,1,1)(0,0,0)[0]             : AIC=-5633.632, Time=0.16 sec\n",
      " ARIMA(1,1,2)(0,0,0)[0]             : AIC=-5634.127, Time=0.25 sec\n",
      " ARIMA(0,1,2)(0,0,0)[0]             : AIC=-5636.109, Time=0.28 sec\n",
      " ARIMA(2,1,0)(0,0,0)[0]             : AIC=-5635.630, Time=0.26 sec\n",
      " ARIMA(2,1,2)(0,0,0)[0]             : AIC=-5635.598, Time=0.52 sec\n",
      "\n",
      "Best model:  ARIMA(1,1,1)(0,0,0)[0]          \n",
      "Total fit time: 7.073 seconds\n",
      "                               SARIMAX Results                                \n",
      "==============================================================================\n",
      "Dep. Variable:                      y   No. Observations:                 2035\n",
      "Model:               SARIMAX(1, 1, 1)   Log Likelihood                2822.793\n",
      "Date:                Tue, 28 Sep 2021   AIC                          -5639.586\n",
      "Time:                        23:24:00   BIC                          -5622.733\n",
      "Sample:                             0   HQIC                         -5633.403\n",
      "                               - 2035                                         \n",
      "Covariance Type:                  opg                                         \n",
      "==============================================================================\n",
      "                 coef    std err          z      P>|z|      [0.025      0.975]\n",
      "------------------------------------------------------------------------------\n",
      "ar.L1          0.6735      0.054     12.577      0.000       0.569       0.778\n",
      "ma.L1         -0.7672      0.049    -15.565      0.000      -0.864      -0.671\n",
      "sigma2         0.0036   1.51e-05    242.271      0.000       0.004       0.004\n",
      "===================================================================================\n",
      "Ljung-Box (L1) (Q):                   0.41   Jarque-Bera (JB):           1116411.19\n",
      "Prob(Q):                              0.52   Prob(JB):                         0.00\n",
      "Heteroskedasticity (H):               1.48   Skew:                             5.79\n",
      "Prob(H) (two-sided):                  0.00   Kurtosis:                       117.19\n",
      "===================================================================================\n",
      "\n",
      "Warnings:\n",
      "[1] Covariance matrix calculated using the outer product of gradients (complex-step).\n"
     ]
    }
   ],
   "source": [
    "model_autoARIMA = auto_arima(history, start_p=0, start_q=0,\n",
    "                      test='adf',       # use adftest to find             optimal 'd'\n",
    "                      max_p=4, max_q=4, # maximum p and q\n",
    "                      m=1,              # frequency of series\n",
    "                      d=None,           # let model determine 'd'\n",
    "                      seasonal=True,   # No Seasonality\n",
    "                      start_P=0,\n",
    "                      D=0,\n",
    "                      trace=True,\n",
    "                      error_action='ignore',\n",
    "                      suppress_warnings=True,\n",
    "                      stepwise=True)\n",
    "print(model_autoARIMA.summary())"
   ],
   "metadata": {
    "collapsed": false,
    "pycharm": {
     "name": "#%%\n"
    }
   }
  },
  {
   "cell_type": "code",
   "execution_count": 20,
   "outputs": [],
   "source": [
    "model_predictions = []\n",
    "N_test_observations = len(test_data)\n",
    "for time_point in range(N_test_observations):\n",
    "    model = ARIMA(history, order=(1, 1, 1))\n",
    "    model_fit = model.fit(disp=0)\n",
    "    output = model_fit.forecast()\n",
    "    yhat = output[0]\n",
    "    model_predictions.append(yhat)\n",
    "    true_test_value = test_data[time_point]\n",
    "    history.append(true_test_value)"
   ],
   "metadata": {
    "collapsed": false,
    "pycharm": {
     "name": "#%%\n"
    }
   }
  },
  {
   "cell_type": "code",
   "execution_count": 21,
   "outputs": [],
   "source": [
    "def calc_metrics(test_data, model_predictions):\n",
    "    MSE_error = mean_squared_error(test_data, model_predictions)\n",
    "    MAE_error = mean_absolute_error(test_data, model_predictions)\n",
    "    COS_dist = cosine(test_data, model_predictions)\n",
    "    print('Testing MSE is {}'.format(MSE_error))\n",
    "    print('Testing MAE is {}'.format(MAE_error))\n",
    "    print('Testing cosine dist is {}'.format(COS_dist))"
   ],
   "metadata": {
    "collapsed": false,
    "pycharm": {
     "name": "#%%\n"
    }
   }
  },
  {
   "cell_type": "code",
   "execution_count": 22,
   "outputs": [
    {
     "name": "stdout",
     "output_type": "stream",
     "text": [
      "Testing MSE is 0.010150563370785667\n",
      "Testing MAE is 0.031237222320572525\n",
      "Testing cosine dist is 4.0189928337430736e-05\n"
     ]
    }
   ],
   "source": [
    "calc_metrics(test_data, model_predictions)"
   ],
   "metadata": {
    "collapsed": false,
    "pycharm": {
     "name": "#%%\n"
    }
   }
  },
  {
   "cell_type": "code",
   "execution_count": 23,
   "outputs": [],
   "source": [
    "def draw_preds(target, preds):\n",
    "    x = np.arange(len(preds))\n",
    "    plt.plot(x, preds, color='blue', marker='o', linestyle='dashed', label='Predicted Price')\n",
    "    plt.plot(x, target, color='red', label='Actual Price')\n",
    "    plt.title('Prices prediction')\n",
    "    plt.ylabel('Prices')\n",
    "    plt.legend()\n",
    "    plt.show()"
   ],
   "metadata": {
    "collapsed": false,
    "pycharm": {
     "name": "#%%\n"
    }
   }
  },
  {
   "cell_type": "code",
   "execution_count": 24,
   "outputs": [
    {
     "data": {
      "text/plain": "<Figure size 432x288 with 1 Axes>",
      "image/png": "[encoded data removed]"
     },
     "metadata": {
      "needs_background": "light"
     },
     "output_type": "display_data"
    }
   ],
   "source": [
    "draw_preds(test_data, model_predictions)"
   ],
   "metadata": {
    "collapsed": false,
    "pycharm": {
     "name": "#%%\n"
    }
   }
  },
  {
   "cell_type": "markdown",
   "source": [
    "Если предсказывать только следующую цену, то результаты получаются хорошими. Попробуем предсказать больше точек."
   ],
   "metadata": {
    "collapsed": false
   }
  },
  {
   "cell_type": "code",
   "execution_count": 25,
   "outputs": [],
   "source": [
    "history = [x for x in training_data]\n",
    "model_predictions = []\n",
    "N_test_observations = len(test_data)\n",
    "\n",
    "model = ARIMA(history, order=(1, 1, 1))\n",
    "model_fit = model.fit(disp=0)\n",
    "\n",
    "output = model_fit.forecast(N_test_observations)\n",
    "\n",
    "model_predictions.extend(output[0])\n",
    "history.extend(test_data)"
   ],
   "metadata": {
    "collapsed": false,
    "pycharm": {
     "name": "#%%\n"
    }
   }
  },
  {
   "cell_type": "code",
   "execution_count": 26,
   "outputs": [
    {
     "data": {
      "text/plain": "<Figure size 432x288 with 1 Axes>",
      "image/png": "[encoded data removed]"
     },
     "metadata": {
      "needs_background": "light"
     },
     "output_type": "display_data"
    },
    {
     "name": "stdout",
     "output_type": "stream",
     "text": [
      "Testing MSE is 2.7197473935164047\n",
      "Testing MAE is 1.6057395130982375\n",
      "Testing cosine dist is 0.0005507138769137443\n"
     ]
    }
   ],
   "source": [
    "draw_preds(test_data, model_predictions)\n",
    "calc_metrics(test_data, model_predictions)"
   ],
   "metadata": {
    "collapsed": false,
    "pycharm": {
     "name": "#%%\n"
    }
   }
  },
  {
   "cell_type": "markdown",
   "source": [
    "Да, здесь уже конечно все не очень. Возможно стоит давать предсказания именно для каждой минуты сессии.\n",
    "Однако тренд на повышение цены модель уловила.\n"
   ],
   "metadata": {
    "collapsed": false,
    "pycharm": {
     "name": "#%% md\n"
    }
   }
  }
 ],
 "metadata": {
  "kernelspec": {
   "display_name": "Python 3",
   "language": "python",
   "name": "python3"
  },
  "language_info": {
   "codemirror_mode": {
    "name": "ipython",
    "version": 2
   },
   "file_extension": ".py",
   "mimetype": "text/x-python",
   "name": "python",
   "nbconvert_exporter": "python",
   "pygments_lexer": "ipython2",
   "version": "2.7.6"
  }
 },
 "nbformat": 4,
 "nbformat_minor": 0
}